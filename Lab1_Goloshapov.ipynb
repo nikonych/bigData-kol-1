{
 "cells": [
  {
   "cell_type": "markdown",
   "source": [
    "# Лабораторная 1"
   ],
   "metadata": {
    "collapsed": false
   }
  },
  {
   "cell_type": "code",
   "execution_count": 6,
   "outputs": [
    {
     "name": "stdout",
     "output_type": "stream",
     "text": [
      "hello world\n"
     ]
    }
   ],
   "source": [
    "print('hello world')"
   ],
   "metadata": {
    "collapsed": false,
    "ExecuteTime": {
     "start_time": "2023-09-14T07:15:29.009870259Z"
    }
   }
  },
  {
   "cell_type": "code",
   "execution_count": 3,
   "outputs": [
    {
     "name": "stdout",
     "output_type": "stream",
     "text": [
      "2\n"
     ]
    }
   ],
   "source": [
    "i = 2\n",
    "print(i)\n"
   ],
   "metadata": {
    "collapsed": false,
    "ExecuteTime": {
     "end_time": "2023-09-21T14:14:57.390161793Z",
     "start_time": "2023-09-21T14:14:57.357729058Z"
    }
   }
  },
  {
   "cell_type": "code",
   "execution_count": 8,
   "outputs": [
    {
     "name": "stdout",
     "output_type": "stream",
     "text": [
      "<class 'int'>\n"
     ]
    }
   ],
   "source": [
    "a = 8\n",
    "t = type(a)\n",
    "print(t)"
   ],
   "metadata": {
    "collapsed": false,
    "ExecuteTime": {
     "end_time": "2023-09-14T07:15:29.477152206Z",
     "start_time": "2023-09-14T07:15:29.042067655Z"
    }
   }
  },
  {
   "cell_type": "code",
   "execution_count": 1,
   "outputs": [],
   "source": [
    "print?"
   ],
   "metadata": {
    "collapsed": false,
    "ExecuteTime": {
     "end_time": "2023-09-21T14:14:30.843868665Z",
     "start_time": "2023-09-21T14:14:30.819440799Z"
    }
   }
  },
  {
   "cell_type": "code",
   "execution_count": 4,
   "outputs": [],
   "source": [
    "c = i + 5"
   ],
   "metadata": {
    "collapsed": false,
    "ExecuteTime": {
     "end_time": "2023-09-21T14:14:59.498771550Z",
     "start_time": "2023-09-21T14:14:59.463360498Z"
    }
   }
  },
  {
   "cell_type": "code",
   "execution_count": 5,
   "outputs": [
    {
     "name": "stdout",
     "output_type": "stream",
     "text": [
      "7\n"
     ]
    }
   ],
   "source": [
    "print(c)"
   ],
   "metadata": {
    "collapsed": false,
    "ExecuteTime": {
     "end_time": "2023-09-21T14:15:00.356799560Z",
     "start_time": "2023-09-21T14:15:00.323514132Z"
    }
   }
  },
  {
   "cell_type": "code",
   "execution_count": 6,
   "outputs": [],
   "source": [
    "i = 4"
   ],
   "metadata": {
    "collapsed": false,
    "ExecuteTime": {
     "end_time": "2023-09-21T14:15:02.730326138Z",
     "start_time": "2023-09-21T14:15:02.660768305Z"
    }
   }
  },
  {
   "cell_type": "code",
   "execution_count": 7,
   "outputs": [
    {
     "data": {
      "text/plain": "int"
     },
     "execution_count": 7,
     "metadata": {},
     "output_type": "execute_result"
    }
   ],
   "source": [
    "type(i)"
   ],
   "metadata": {
    "collapsed": false,
    "ExecuteTime": {
     "end_time": "2023-09-21T14:15:03.271576369Z",
     "start_time": "2023-09-21T14:15:03.238297855Z"
    }
   }
  },
  {
   "cell_type": "code",
   "execution_count": 8,
   "outputs": [],
   "source": [
    "f = 4.1 # float"
   ],
   "metadata": {
    "collapsed": false,
    "ExecuteTime": {
     "end_time": "2023-09-21T14:15:05.567780270Z",
     "start_time": "2023-09-21T14:15:05.537055157Z"
    }
   }
  },
  {
   "cell_type": "code",
   "execution_count": 9,
   "outputs": [
    {
     "data": {
      "text/plain": "float"
     },
     "execution_count": 9,
     "metadata": {},
     "output_type": "execute_result"
    }
   ],
   "source": [
    "type(f)"
   ],
   "metadata": {
    "collapsed": false,
    "ExecuteTime": {
     "end_time": "2023-09-21T14:15:06.077516596Z",
     "start_time": "2023-09-21T14:15:06.056497760Z"
    }
   }
  },
  {
   "cell_type": "code",
   "execution_count": 21,
   "outputs": [],
   "source": [
    "b = True # bool"
   ],
   "metadata": {
    "collapsed": false,
    "ExecuteTime": {
     "end_time": "2023-09-14T07:15:29.839658673Z",
     "start_time": "2023-09-14T07:15:29.111155484Z"
    }
   }
  },
  {
   "cell_type": "code",
   "execution_count": 22,
   "outputs": [],
   "source": [
    "s = \"This is string\" # str"
   ],
   "metadata": {
    "collapsed": false,
    "ExecuteTime": {
     "end_time": "2023-09-14T07:15:29.848831471Z",
     "start_time": "2023-09-14T07:15:29.111533505Z"
    }
   }
  },
  {
   "cell_type": "code",
   "execution_count": 23,
   "outputs": [
    {
     "name": "stdout",
     "output_type": "stream",
     "text": [
      "This is string\n"
     ]
    }
   ],
   "source": [
    "print(s)"
   ],
   "metadata": {
    "collapsed": false,
    "ExecuteTime": {
     "end_time": "2023-09-14T07:15:29.916163557Z",
     "start_time": "2023-09-14T07:15:29.114962724Z"
    }
   }
  },
  {
   "cell_type": "markdown",
   "source": [
    "# Advanced python types"
   ],
   "metadata": {
    "collapsed": false
   }
  },
  {
   "cell_type": "code",
   "execution_count": 24,
   "outputs": [],
   "source": [
    "l = [2, 3, 4]"
   ],
   "metadata": {
    "collapsed": false,
    "ExecuteTime": {
     "end_time": "2023-09-14T07:15:29.920237850Z",
     "start_time": "2023-09-14T07:15:29.153698780Z"
    }
   }
  },
  {
   "cell_type": "code",
   "execution_count": 25,
   "outputs": [
    {
     "name": "stdout",
     "output_type": "stream",
     "text": [
      "[2, 3, 4]\n"
     ]
    }
   ],
   "source": [
    "print(l)"
   ],
   "metadata": {
    "collapsed": false,
    "ExecuteTime": {
     "end_time": "2023-09-14T07:15:29.920771186Z",
     "start_time": "2023-09-14T07:15:29.154009829Z"
    }
   }
  },
  {
   "cell_type": "code",
   "execution_count": 56,
   "outputs": [],
   "source": [
    "d = {'b':\"abc\", 'a':43}"
   ],
   "metadata": {
    "collapsed": false,
    "ExecuteTime": {
     "end_time": "2023-09-14T07:21:30.714458566Z",
     "start_time": "2023-09-14T07:21:30.669131567Z"
    }
   }
  },
  {
   "cell_type": "code",
   "execution_count": 57,
   "outputs": [
    {
     "name": "stdout",
     "output_type": "stream",
     "text": [
      "{'b': 'abc', 'a': 43}\n"
     ]
    }
   ],
   "source": [
    "print(d)"
   ],
   "metadata": {
    "collapsed": false,
    "ExecuteTime": {
     "end_time": "2023-09-14T07:21:32.221045990Z",
     "start_time": "2023-09-14T07:21:32.208891324Z"
    }
   }
  },
  {
   "cell_type": "code",
   "execution_count": 58,
   "outputs": [
    {
     "name": "stdout",
     "output_type": "stream",
     "text": [
      "abc\n"
     ]
    }
   ],
   "source": [
    "print(d['b'])"
   ],
   "metadata": {
    "collapsed": false,
    "ExecuteTime": {
     "end_time": "2023-09-14T07:21:34.454465359Z",
     "start_time": "2023-09-14T07:21:34.443080878Z"
    }
   }
  },
  {
   "cell_type": "code",
   "execution_count": 29,
   "outputs": [],
   "source": [
    "n = None"
   ],
   "metadata": {
    "collapsed": false,
    "ExecuteTime": {
     "end_time": "2023-09-14T07:15:29.924423810Z",
     "start_time": "2023-09-14T07:15:29.155363387Z"
    }
   }
  },
  {
   "cell_type": "code",
   "execution_count": 30,
   "outputs": [
    {
     "name": "stdout",
     "output_type": "stream",
     "text": [
      "None\n"
     ]
    }
   ],
   "source": [
    "print(n)"
   ],
   "metadata": {
    "collapsed": false,
    "ExecuteTime": {
     "end_time": "2023-09-14T07:15:29.924984941Z",
     "start_time": "2023-09-14T07:15:29.155709423Z"
    }
   }
  },
  {
   "cell_type": "code",
   "execution_count": 31,
   "outputs": [],
   "source": [
    "import math\n",
    "p=math.pow(10,2)"
   ],
   "metadata": {
    "collapsed": false,
    "ExecuteTime": {
     "end_time": "2023-09-14T07:15:29.925264354Z",
     "start_time": "2023-09-14T07:15:29.156072011Z"
    }
   }
  },
  {
   "cell_type": "code",
   "execution_count": 32,
   "outputs": [
    {
     "name": "stdout",
     "output_type": "stream",
     "text": [
      "Возведение числа 10 в квадрат = 100.0\n"
     ]
    }
   ],
   "source": [
    "print(f\"Возведение числа 10 в квадрат = {p}\")"
   ],
   "metadata": {
    "collapsed": false,
    "ExecuteTime": {
     "end_time": "2023-09-14T07:15:29.925688328Z",
     "start_time": "2023-09-14T07:15:29.156349748Z"
    }
   }
  },
  {
   "cell_type": "markdown",
   "source": [
    "# Advanced Printing"
   ],
   "metadata": {
    "collapsed": false
   }
  },
  {
   "cell_type": "code",
   "execution_count": 33,
   "outputs": [
    {
     "name": "stdout",
     "output_type": "stream",
     "text": [
      "Out first value is 6. Our second value is False.\n"
     ]
    }
   ],
   "source": [
    "i = 1\n",
    "n = True\n",
    "print(f\"Out first value is {i}. Our second value is {n}.\")\n"
   ],
   "metadata": {
    "collapsed": false,
    "ExecuteTime": {
     "end_time": "2023-09-14T07:15:29.926081085Z",
     "start_time": "2023-09-14T07:15:29.156784895Z"
    }
   }
  },
  {
   "cell_type": "code",
   "execution_count": 34,
   "outputs": [
    {
     "name": "stdout",
     "output_type": "stream",
     "text": [
      "i or f > 4\n"
     ]
    }
   ],
   "source": [
    "i = 7\n",
    "f = 4.12\n",
    "if i == 1 and f > 4:\n",
    "    print(\"Value of i is 1 and f > 4\")\n",
    "elif i > 4 or f > 4:\n",
    "    print(\"i or f > 4\")\n",
    "else:\n",
    "    print(\"both i and f are less than 4\")"
   ],
   "metadata": {
    "collapsed": false,
    "ExecuteTime": {
     "end_time": "2023-09-14T07:15:29.926467486Z",
     "start_time": "2023-09-14T07:15:29.157131700Z"
    }
   }
  },
  {
   "cell_type": "markdown",
   "source": [
    "# Conditional loops"
   ],
   "metadata": {
    "collapsed": false
   }
  },
  {
   "cell_type": "code",
   "execution_count": 35,
   "outputs": [
    {
     "name": "stdout",
     "output_type": "stream",
     "text": [
      "[1, 2, 3, 4]\n"
     ]
    }
   ],
   "source": [
    "l = [1,2,3,4]\n",
    "print(l)"
   ],
   "metadata": {
    "collapsed": false,
    "ExecuteTime": {
     "start_time": "2023-09-14T07:15:29.196075657Z"
    }
   }
  },
  {
   "cell_type": "code",
   "execution_count": 36,
   "outputs": [
    {
     "name": "stdout",
     "output_type": "stream",
     "text": [
      "1\n",
      "2\n",
      "3\n",
      "4\n"
     ]
    }
   ],
   "source": [
    "for e in l:\n",
    "    print(e)"
   ],
   "metadata": {
    "collapsed": false,
    "ExecuteTime": {
     "end_time": "2023-09-14T07:15:29.927229884Z",
     "start_time": "2023-09-14T07:15:29.196592372Z"
    }
   }
  },
  {
   "cell_type": "code",
   "execution_count": 61,
   "outputs": [
    {
     "name": "stdout",
     "output_type": "stream",
     "text": [
      "Числа от 0 до 9: 0\n",
      "Числа от 0 до 9: 1\n",
      "Числа от 0 до 9: 2\n",
      "Числа от 0 до 9: 3\n",
      "Числа от 0 до 9: 4\n",
      "Числа от 0 до 9: 5\n",
      "Числа от 0 до 9: 6\n",
      "Числа от 0 до 9: 7\n",
      "Числа от 0 до 9: 8\n",
      "Числа от 0 до 9: 9\n"
     ]
    }
   ],
   "source": [
    "for n in range(10):\n",
    "    print(f\"Числа от 0 до 9: {n}\")"
   ],
   "metadata": {
    "collapsed": false,
    "ExecuteTime": {
     "end_time": "2023-09-14T07:22:25.606069826Z",
     "start_time": "2023-09-14T07:22:25.543440694Z"
    }
   }
  },
  {
   "cell_type": "code",
   "execution_count": 14,
   "outputs": [],
   "source": [
    "import time"
   ],
   "metadata": {
    "collapsed": false,
    "ExecuteTime": {
     "end_time": "2023-09-21T14:31:02.163043077Z",
     "start_time": "2023-09-21T14:31:02.104198286Z"
    }
   }
  },
  {
   "cell_type": "code",
   "execution_count": 15,
   "outputs": [
    {
     "name": "stdout",
     "output_type": "stream",
     "text": [
      "число:  0\n",
      "число:  1\n",
      "число:  2\n",
      "число:  3\n",
      "число:  4\n",
      "число:  5\n",
      "число:  6\n",
      "число:  7\n",
      "число:  8\n"
     ]
    }
   ],
   "source": [
    "for n in range(9):\n",
    "    time.sleep(0.5)\n",
    "    print(\"число: \", n)"
   ],
   "metadata": {
    "collapsed": false,
    "ExecuteTime": {
     "end_time": "2023-09-21T14:31:08.567207727Z",
     "start_time": "2023-09-21T14:31:04.037709553Z"
    }
   }
  },
  {
   "cell_type": "code",
   "execution_count": 1,
   "outputs": [
    {
     "name": "stdout",
     "output_type": "stream",
     "text": [
      "1\n",
      "2\n",
      "3\n",
      "4\n",
      "5\n",
      "6\n",
      "7\n",
      "8\n",
      "9\n"
     ]
    }
   ],
   "source": [
    "c = 1\n",
    "while c < 10:\n",
    "    print(c)\n",
    "    c+=1"
   ],
   "metadata": {
    "collapsed": false,
    "ExecuteTime": {
     "end_time": "2023-10-04T16:18:49.078972433Z",
     "start_time": "2023-10-04T16:18:49.062264862Z"
    }
   }
  },
  {
   "cell_type": "markdown",
   "source": [
    "# Functions"
   ],
   "metadata": {
    "collapsed": false
   }
  },
  {
   "cell_type": "code",
   "execution_count": 10,
   "outputs": [],
   "source": [
    " def add2(x):\n",
    "    y = x * x\n",
    "    return y"
   ],
   "metadata": {
    "collapsed": false,
    "ExecuteTime": {
     "end_time": "2023-09-21T14:17:04.498409591Z",
     "start_time": "2023-09-21T14:17:04.452762181Z"
    }
   }
  },
  {
   "cell_type": "code",
   "execution_count": 11,
   "outputs": [],
   "source": [
    "i = 2"
   ],
   "metadata": {
    "collapsed": false,
    "ExecuteTime": {
     "end_time": "2023-09-21T14:17:05.085504860Z",
     "start_time": "2023-09-21T14:17:05.049749292Z"
    }
   }
  },
  {
   "cell_type": "code",
   "execution_count": 12,
   "outputs": [
    {
     "data": {
      "text/plain": "4"
     },
     "execution_count": 12,
     "metadata": {},
     "output_type": "execute_result"
    }
   ],
   "source": [
    "add2(i)"
   ],
   "metadata": {
    "collapsed": false,
    "ExecuteTime": {
     "end_time": "2023-09-21T14:17:05.527242711Z",
     "start_time": "2023-09-21T14:17:05.518854833Z"
    }
   }
  },
  {
   "cell_type": "code",
   "execution_count": 44,
   "outputs": [],
   "source": [
    "square = lambda x: x**3"
   ],
   "metadata": {
    "collapsed": false,
    "ExecuteTime": {
     "end_time": "2023-09-14T07:15:38.274079419Z",
     "start_time": "2023-09-14T07:15:38.244358268Z"
    }
   }
  },
  {
   "cell_type": "code",
   "execution_count": 45,
   "outputs": [
    {
     "data": {
      "text/plain": "125"
     },
     "execution_count": 45,
     "metadata": {},
     "output_type": "execute_result"
    }
   ],
   "source": [
    "square(5)"
   ],
   "metadata": {
    "collapsed": false,
    "ExecuteTime": {
     "end_time": "2023-09-14T07:15:38.274330339Z",
     "start_time": "2023-09-14T07:15:38.245514263Z"
    }
   }
  },
  {
   "cell_type": "code",
   "execution_count": 46,
   "outputs": [],
   "source": [
    "x = lambda a,b: a*b+2"
   ],
   "metadata": {
    "collapsed": false,
    "ExecuteTime": {
     "end_time": "2023-09-14T07:15:38.274461840Z",
     "start_time": "2023-09-14T07:15:38.246177565Z"
    }
   }
  },
  {
   "cell_type": "code",
   "execution_count": 47,
   "outputs": [
    {
     "name": "stdout",
     "output_type": "stream",
     "text": [
      "37\n"
     ]
    }
   ],
   "source": [
    "print(x(5,7))"
   ],
   "metadata": {
    "collapsed": false,
    "ExecuteTime": {
     "end_time": "2023-09-14T07:15:38.274804735Z",
     "start_time": "2023-09-14T07:15:38.246804762Z"
    }
   }
  },
  {
   "cell_type": "code",
   "execution_count": 48,
   "outputs": [],
   "source": [
    "x = lambda a,b,c: a+b+c"
   ],
   "metadata": {
    "collapsed": false,
    "ExecuteTime": {
     "end_time": "2023-09-14T07:15:38.275023182Z",
     "start_time": "2023-09-14T07:15:38.248196314Z"
    }
   }
  },
  {
   "cell_type": "code",
   "execution_count": 49,
   "outputs": [
    {
     "name": "stdout",
     "output_type": "stream",
     "text": [
      "6\n"
     ]
    }
   ],
   "source": [
    "print(x(1,3,2))"
   ],
   "metadata": {
    "collapsed": false,
    "ExecuteTime": {
     "end_time": "2023-09-14T07:15:38.280163949Z",
     "start_time": "2023-09-14T07:15:38.248956828Z"
    }
   }
  },
  {
   "cell_type": "markdown",
   "source": [
    "<h1>1</h1>\n",
    "<h2>2</h2>\n",
    "<h3>3</h3>\n",
    "<h4>4</h4>\n",
    "<h5>5</h5>\n",
    "<h6>6</h6>"
   ],
   "metadata": {
    "collapsed": false
   }
  },
  {
   "cell_type": "markdown",
   "source": [
    "<img src='img.png'>"
   ],
   "metadata": {
    "collapsed": false
   }
  },
  {
   "cell_type": "markdown",
   "source": [
    "\\begin{equation*}\n",
    "\\left(sum_{k=1}^n a_k b_k\\right)^2\n",
    "\\end{equation*}"
   ],
   "metadata": {
    "collapsed": false
   }
  },
  {
   "cell_type": "markdown",
   "source": [
    "\\begin{equation*}\n",
    "\\(E=mc^2\\)\n",
    "\\end{equation*}"
   ],
   "metadata": {
    "collapsed": false
   }
  },
  {
   "cell_type": "markdown",
   "source": [
    "# Console Commands"
   ],
   "metadata": {
    "collapsed": false
   }
  },
  {
   "cell_type": "code",
   "execution_count": 68,
   "outputs": [
    {
     "name": "stdout",
     "output_type": "stream",
     "text": [
      "zsh:1: command not found: ipconfig\r\n"
     ]
    }
   ],
   "source": [
    "! ipconfig"
   ],
   "metadata": {
    "collapsed": false,
    "ExecuteTime": {
     "end_time": "2023-09-14T07:25:56.931384342Z",
     "start_time": "2023-09-14T07:25:56.815731263Z"
    }
   }
  },
  {
   "cell_type": "code",
   "execution_count": 52,
   "outputs": [
    {
     "name": "stdout",
     "output_type": "stream",
     "text": [
      "64 bytes from lt-in-f139.1e100.net (108.177.14.139): icmp_seq=57 ttl=52 time=95.9 ms\r\n",
      "64 bytes from lt-in-f139.1e100.net (108.177.14.139): icmp_seq=58 ttl=52 time=92.2 ms\r\n",
      "64 bytes from lt-in-f139.1e100.net (108.177.14.139): icmp_seq=59 ttl=52 time=119 ms\r\n",
      "64 bytes from lt-in-f139.1e100.net (108.177.14.139): icmp_seq=60 ttl=52 time=103 ms\r\n",
      "64 bytes from lt-in-f139.1e100.net (108.177.14.139): icmp_seq=61 ttl=52 time=102 ms\r\n",
      "64 bytes from lt-in-f139.1e100.net (108.177.14.139): icmp_seq=62 ttl=52 time=150 ms\r\n",
      "64 bytes from lt-in-f139.1e100.net (108.177.14.139): icmp_seq=63 ttl=52 time=100 ms\r\n",
      "64 bytes from lt-in-f139.1e100.net (108.177.14.139): icmp_seq=64 ttl=52 time=114 ms\r\n",
      "64 bytes from lt-in-f139.1e100.net (108.177.14.139): icmp_seq=65 ttl=52 time=103 ms\r\n",
      "64 bytes from lt-in-f139.1e100.net (108.177.14.139): icmp_seq=66 ttl=52 time=118 ms\r\n",
      "64 bytes from lt-in-f139.1e100.net (108.177.14.139): icmp_seq=67 ttl=52 time=210 ms\r\n",
      "64 bytes from lt-in-f139.1e100.net (108.177.14.139): icmp_seq=68 ttl=52 time=89.8 ms\r\n",
      "64 bytes from lt-in-f139.1e100.net (108.177.14.139): icmp_seq=69 ttl=52 time=178 ms\r\n",
      "64 bytes from lt-in-f139.1e100.net (108.177.14.139): icmp_seq=70 ttl=52 time=99.1 ms\r\n",
      "64 bytes from lt-in-f139.1e100.net (108.177.14.139): icmp_seq=71 ttl=52 time=123 ms\r\n",
      "64 bytes from lt-in-f139.1e100.net (108.177.14.139): icmp_seq=72 ttl=52 time=130 ms\r\n",
      "64 bytes from lt-in-f139.1e100.net (108.177.14.139): icmp_seq=73 ttl=52 time=133 ms\r\n",
      "64 bytes from lt-in-f139.1e100.net (108.177.14.139): icmp_seq=74 ttl=52 time=171 ms\r\n",
      "64 bytes from lt-in-f139.1e100.net (108.177.14.139): icmp_seq=75 ttl=52 time=335 ms\r\n",
      "64 bytes from lt-in-f139.1e100.net (108.177.14.139): icmp_seq=76 ttl=52 time=90.8 ms\r\n",
      "64 bytes from lt-in-f139.1e100.net (108.177.14.139): icmp_seq=77 ttl=52 time=123 ms\r\n",
      "64 bytes from lt-in-f139.1e100.net (108.177.14.139): icmp_seq=78 ttl=52 time=108 ms\r\n",
      "64 bytes from lt-in-f139.1e100.net (108.177.14.139): icmp_seq=79 ttl=52 time=156 ms\r\n",
      "^C\r\n",
      "\r\n",
      "--- google.com ping statistics ---\r\n",
      "79 packets transmitted, 79 received, 0% packet loss, time 82244ms\r\n",
      "rtt min/avg/max/mdev = 86.173/163.579/742.317/93.968 ms\r\n",
      "PING test.com (67.225.146.248) 56(84) bytes of data.\r\n",
      "^C\r\n",
      "\r\n",
      "--- test.com ping statistics ---\r\n",
      "76 packets transmitted, 0 received, 100% packet loss, time 76791ms\r\n",
      "\r\n"
     ]
    }
   ],
   "source": [
    "! ping test.com"
   ],
   "metadata": {
    "collapsed": false
   }
  }
 ],
 "metadata": {
  "kernelspec": {
   "display_name": "Python 3",
   "language": "python",
   "name": "python3"
  },
  "language_info": {
   "codemirror_mode": {
    "name": "ipython",
    "version": 2
   },
   "file_extension": ".py",
   "mimetype": "text/x-python",
   "name": "python",
   "nbconvert_exporter": "python",
   "pygments_lexer": "ipython2",
   "version": "2.7.6"
  }
 },
 "nbformat": 4,
 "nbformat_minor": 0
}
