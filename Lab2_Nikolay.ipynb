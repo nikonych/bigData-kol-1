{
 "cells": [
  {
   "cell_type": "markdown",
   "source": [
    "# Лабораторная 2 \n",
    "## 1.\tИспользование команд библиотеки NumPy"
   ],
   "metadata": {
    "collapsed": false,
    "pycharm": {
     "name": "#%% md\n"
    }
   }
  },
  {
   "cell_type": "markdown",
   "source": [
    "## 1.1. Создайте одномерный массив my_array, в котором по порядку все числа до 100, кратные 5"
   ],
   "metadata": {
    "collapsed": false,
    "pycharm": {
     "name": "#%% md\n"
    }
   }
  },
  {
   "cell_type": "code",
   "execution_count": 2,
   "outputs": [
    {
     "name": "stdout",
     "output_type": "stream",
     "text": [
      "[  5  10  15  20  25  30  35  40  45  50  55  60  65  70  75  80  85  90\n",
      "  95 100]\n"
     ]
    }
   ],
   "source": [
    "import numpy as np\n",
    "my_array = np.arange(5, 101, 5)\n",
    "print(my_array)"
   ],
   "metadata": {
    "collapsed": false,
    "pycharm": {
     "name": "#%%\n"
    },
    "ExecuteTime": {
     "end_time": "2023-10-05T06:43:52.553060103Z",
     "start_time": "2023-10-05T06:43:52.279215492Z"
    }
   }
  },
  {
   "cell_type": "markdown",
   "source": [
    "## 2.1. Из полученного массива получить массив с кратными 10 числами"
   ],
   "metadata": {
    "collapsed": false,
    "pycharm": {
     "name": "#%% md\n"
    }
   }
  },
  {
   "cell_type": "code",
   "execution_count": 3,
   "outputs": [
    {
     "data": {
      "text/plain": "array([ 10,  20,  30,  40,  50,  60,  70,  80,  90, 100])"
     },
     "execution_count": 3,
     "metadata": {},
     "output_type": "execute_result"
    }
   ],
   "source": [
    "my_array_10 = my_array[my_array % 10 == 0]\n",
    "my_array_10"
   ],
   "metadata": {
    "collapsed": false,
    "pycharm": {
     "name": "#%%\n"
    },
    "ExecuteTime": {
     "end_time": "2023-10-05T06:43:54.439904836Z",
     "start_time": "2023-10-05T06:43:54.201726391Z"
    }
   }
  },
  {
   "cell_type": "markdown",
   "source": [
    "## 3.1. Получить двумерный массив с двумя столбцами\n"
   ],
   "metadata": {
    "collapsed": false,
    "pycharm": {
     "name": "#%% md\n"
    }
   }
  },
  {
   "cell_type": "code",
   "execution_count": 17,
   "outputs": [
    {
     "data": {
      "text/plain": "array([[  5,  10],\n       [ 15,  20],\n       [ 25,  30],\n       [ 35,  40],\n       [ 45,  50],\n       [ 55,  60],\n       [ 65,  70],\n       [ 75,  80],\n       [ 85,  90],\n       [ 95, 100]])"
     },
     "execution_count": 17,
     "metadata": {},
     "output_type": "execute_result"
    }
   ],
   "source": [
    "my_2d_array = my_array.reshape(10, 2)\n",
    "my_2d_array"
   ],
   "metadata": {
    "collapsed": false,
    "pycharm": {
     "name": "#%%\n"
    },
    "ExecuteTime": {
     "end_time": "2023-10-05T06:47:29.226981140Z",
     "start_time": "2023-10-05T06:47:29.139406427Z"
    }
   }
  },
  {
   "cell_type": "markdown",
   "source": [
    "## 4.1.Получите набор my_second_array, в котором все элементы меньше предыдущего исходного на 5"
   ],
   "metadata": {
    "collapsed": false,
    "pycharm": {
     "name": "#%% md\n"
    }
   }
  },
  {
   "cell_type": "code",
   "execution_count": 20,
   "outputs": [
    {
     "data": {
      "text/plain": "array([ 0,  5, 10, 15, 20, 25, 30, 35, 40, 45, 50, 55, 60, 65, 70, 75, 80,\n       85, 90, 95])"
     },
     "execution_count": 20,
     "metadata": {},
     "output_type": "execute_result"
    }
   ],
   "source": [
    "my_second_array = my_array - 5\n",
    "my_second_array"
   ],
   "metadata": {
    "collapsed": false,
    "pycharm": {
     "name": "#%%\n"
    },
    "ExecuteTime": {
     "end_time": "2023-10-05T06:48:49.454273184Z",
     "start_time": "2023-10-05T06:48:49.428628586Z"
    }
   }
  },
  {
   "cell_type": "markdown",
   "source": [
    "## 5.1.\tСоедините массивы, полученные в п. 3.1 и 4.1, горизонтально. Используйте .T для транспонирования матрицы."
   ],
   "metadata": {
    "collapsed": false,
    "pycharm": {
     "name": "#%% md\n"
    }
   }
  },
  {
   "cell_type": "code",
   "execution_count": 32,
   "outputs": [
    {
     "data": {
      "text/plain": "array([[  5,  15,  25,  35,  45,  55,  65,  75,  85,  95],\n       [ 10,  20,  30,  40,  50,  60,  70,  80,  90, 100],\n       [  0,  10,  20,  30,  40,  50,  60,  70,  80,  90],\n       [  5,  15,  25,  35,  45,  55,  65,  75,  85,  95]])"
     },
     "execution_count": 32,
     "metadata": {},
     "output_type": "execute_result"
    }
   ],
   "source": [
    "combined_array = np.hstack((my_2d_array, my_second_array.reshape(10, 2))).T\n",
    "combined_array"
   ],
   "metadata": {
    "collapsed": false,
    "pycharm": {
     "name": "#%%\n"
    },
    "ExecuteTime": {
     "end_time": "2023-10-05T06:56:06.725700900Z",
     "start_time": "2023-10-05T06:56:06.688825543Z"
    }
   }
  },
  {
   "cell_type": "markdown",
   "source": [
    "## 6.1. Разделите 2 и 3 строку на 4 верхних строки my_array. Используйте .T для транспонирования матрицы\n"
   ],
   "metadata": {
    "collapsed": false,
    "pycharm": {
     "name": "#%% md\n"
    }
   }
  },
  {
   "cell_type": "code",
   "execution_count": 39,
   "outputs": [
    {
     "data": {
      "text/plain": "array([[ 5, 15, 25, 35, 45, 55, 65, 75, 85, 95],\n       [ 2,  4,  6,  8, 10, 12, 14, 16, 18, 20],\n       [ 0,  1,  2,  3,  4,  5,  6,  7,  8,  9],\n       [ 5, 15, 25, 35, 45, 55, 65, 75, 85, 95]])"
     },
     "execution_count": 39,
     "metadata": {},
     "output_type": "execute_result"
    }
   ],
   "source": [
    "result = combined_array.copy()\n",
    "result[1:3, :] = result[1:3, :] / my_array[:2, np.newaxis]\n",
    "result"
   ],
   "metadata": {
    "collapsed": false,
    "pycharm": {
     "name": "#%%\n"
    },
    "ExecuteTime": {
     "end_time": "2023-10-05T07:03:20.887658020Z",
     "start_time": "2023-10-05T07:03:20.850454772Z"
    }
   }
  },
  {
   "cell_type": "markdown",
   "source": [
    "## 7.1 Оставить только те значения, которые не изменились после деления\n"
   ],
   "metadata": {
    "collapsed": false,
    "pycharm": {
     "name": "#%% md\n"
    }
   }
  },
  {
   "cell_type": "code",
   "execution_count": 41,
   "outputs": [
    {
     "data": {
      "text/plain": "array([], shape=(4, 0), dtype=int64)"
     },
     "execution_count": 41,
     "metadata": {},
     "output_type": "execute_result"
    }
   ],
   "source": [
    "result = result[:, (result[0] == result[1])]\n",
    "result"
   ],
   "metadata": {
    "collapsed": false,
    "pycharm": {
     "name": "#%%\n"
    },
    "ExecuteTime": {
     "end_time": "2023-10-05T07:03:45.315001057Z",
     "start_time": "2023-10-05T07:03:45.272824304Z"
    }
   }
  },
  {
   "cell_type": "markdown",
   "source": [
    "## 8.1 Снова получить трехстрочный двумерный массив и поменять местами первую и третью строки\n"
   ],
   "metadata": {
    "collapsed": false,
    "pycharm": {
     "name": "#%% md\n"
    }
   }
  },
  {
   "cell_type": "code",
   "execution_count": 42,
   "outputs": [
    {
     "data": {
      "text/plain": "array([[  0,  10,  20,  30,  40,  50,  60,  70,  80,  90],\n       [ 10,  20,  30,  40,  50,  60,  70,  80,  90, 100],\n       [  5,  15,  25,  35,  45,  55,  65,  75,  85,  95],\n       [  5,  15,  25,  35,  45,  55,  65,  75,  85,  95]])"
     },
     "execution_count": 42,
     "metadata": {},
     "output_type": "execute_result"
    }
   ],
   "source": [
    "result_2d = combined_array.copy()\n",
    "result_2d[[0, 2]] = result_2d[[2, 0]]\n",
    "result_2d"
   ],
   "metadata": {
    "collapsed": false,
    "pycharm": {
     "name": "#%%\n"
    },
    "ExecuteTime": {
     "end_time": "2023-10-05T07:03:46.949635383Z",
     "start_time": "2023-10-05T07:03:46.926629120Z"
    }
   }
  },
  {
   "cell_type": "markdown",
   "source": [
    "## 9.1 Получить среднее, медиану и стандартное отклонение для каждой строки\n"
   ],
   "metadata": {
    "collapsed": false,
    "pycharm": {
     "name": "#%% md\n"
    }
   }
  },
  {
   "cell_type": "code",
   "execution_count": 43,
   "outputs": [
    {
     "name": "stdout",
     "output_type": "stream",
     "text": [
      "Среднее: [45. 55. 50. 50.]\n",
      "Медиана: [45. 55. 50. 50.]\n",
      "Стандартное: [28.72281323 28.72281323 28.72281323 28.72281323]\n"
     ]
    }
   ],
   "source": [
    "mean_values = np.mean(result_2d, axis=1)\n",
    "median_values = np.median(result_2d, axis=1)\n",
    "std_deviation = np.std(result_2d, axis=1)\n",
    "print(f\"Среднее: {mean_values}\")\n",
    "print(f\"Медиана: {median_values}\")\n",
    "print(f\"Стандартное: {std_deviation}\")\n"
   ],
   "metadata": {
    "collapsed": false,
    "pycharm": {
     "name": "#%%\n"
    },
    "ExecuteTime": {
     "end_time": "2023-10-05T07:03:48.628977973Z",
     "start_time": "2023-10-05T07:03:48.588903314Z"
    }
   }
  },
  {
   "cell_type": "markdown",
   "source": [
    "## 10.1 Сделать нормализацию на максимальное значение вдоль строк\n"
   ],
   "metadata": {
    "collapsed": false,
    "pycharm": {
     "name": "#%% md\n"
    }
   }
  },
  {
   "cell_type": "code",
   "execution_count": 44,
   "outputs": [
    {
     "data": {
      "text/plain": "array([[0.        , 0.11111111, 0.22222222, 0.33333333, 0.44444444,\n        0.55555556, 0.66666667, 0.77777778, 0.88888889, 1.        ],\n       [0.1       , 0.2       , 0.3       , 0.4       , 0.5       ,\n        0.6       , 0.7       , 0.8       , 0.9       , 1.        ],\n       [0.05263158, 0.15789474, 0.26315789, 0.36842105, 0.47368421,\n        0.57894737, 0.68421053, 0.78947368, 0.89473684, 1.        ],\n       [0.05263158, 0.15789474, 0.26315789, 0.36842105, 0.47368421,\n        0.57894737, 0.68421053, 0.78947368, 0.89473684, 1.        ]])"
     },
     "execution_count": 44,
     "metadata": {},
     "output_type": "execute_result"
    }
   ],
   "source": [
    "normalized_array = result_2d / result_2d.max(axis=1)[:, np.newaxis]\n",
    "normalized_array"
   ],
   "metadata": {
    "collapsed": false,
    "pycharm": {
     "name": "#%%\n"
    },
    "ExecuteTime": {
     "end_time": "2023-10-05T07:04:02.933677326Z",
     "start_time": "2023-10-05T07:04:02.893285021Z"
    }
   }
  },
  {
   "cell_type": "markdown",
   "source": [
    "# 2.\tИспользование команд библиотеки pandas"
   ],
   "metadata": {
    "collapsed": false,
    "pycharm": {
     "name": "#%% md\n"
    }
   }
  },
  {
   "cell_type": "markdown",
   "source": [
    "## 2.1 Импортируйте данные из файла “Global Population Trends(2016-2022).csv”.\n"
   ],
   "metadata": {
    "collapsed": false,
    "pycharm": {
     "name": "#%% md\n"
    }
   }
  },
  {
   "cell_type": "code",
   "execution_count": 45,
   "outputs": [],
   "source": [
    "import pandas as pd\n",
    "df = pd.read_csv(\"Global Population Trends(2016-2022).csv\")"
   ],
   "metadata": {
    "collapsed": false,
    "pycharm": {
     "name": "#%%\n"
    },
    "ExecuteTime": {
     "end_time": "2023-10-05T07:04:14.177904120Z",
     "start_time": "2023-10-05T07:04:14.105797470Z"
    }
   }
  },
  {
   "cell_type": "markdown",
   "source": [
    "## 2.2 Считайте несколько первых записей таблицы (head())\n"
   ],
   "metadata": {
    "collapsed": false,
    "pycharm": {
     "name": "#%% md\n"
    }
   }
  },
  {
   "cell_type": "code",
   "execution_count": 46,
   "outputs": [
    {
     "data": {
      "text/plain": "       Country  Year Total Population Urban Population Rural Population  \\\n0  Afghanistan  2017                -                -                -   \n1  Afghanistan  2018       36,686,784        9,353,296       27,333,488   \n2  Afghanistan  2019       37,769,499        9,727,157       28,042,342   \n3  Afghanistan  2020       38,972,230       10,142,913       28,829,317   \n4  Afghanistan  2021       40,099,462       10,551,772       29,547,690   \n\n  Population Density Life Expectancy  Birth Rate  Death Rate Fertility Rate  \\\n0                 55            63.0      37.342       7.027          5.129   \n1                 56            63.0      36.927       6.981          5.002   \n2                 58            64.0      36.466       6.791           4.87   \n3                 60            63.0      36.051       7.113           4.75   \n4                  -            62.0      35.842       7.344          4.643   \n\n  Infant Mortality Rate Growth Rate  \n0                  49.4           -  \n1                  47.8         3.0  \n2                  46.3         3.0  \n3                  44.8         3.0  \n4                  43.4         3.0  ",
      "text/html": "<div>\n<style scoped>\n    .dataframe tbody tr th:only-of-type {\n        vertical-align: middle;\n    }\n\n    .dataframe tbody tr th {\n        vertical-align: top;\n    }\n\n    .dataframe thead th {\n        text-align: right;\n    }\n</style>\n<table border=\"1\" class=\"dataframe\">\n  <thead>\n    <tr style=\"text-align: right;\">\n      <th></th>\n      <th>Country</th>\n      <th>Year</th>\n      <th>Total Population</th>\n      <th>Urban Population</th>\n      <th>Rural Population</th>\n      <th>Population Density</th>\n      <th>Life Expectancy</th>\n      <th>Birth Rate</th>\n      <th>Death Rate</th>\n      <th>Fertility Rate</th>\n      <th>Infant Mortality Rate</th>\n      <th>Growth Rate</th>\n    </tr>\n  </thead>\n  <tbody>\n    <tr>\n      <th>0</th>\n      <td>Afghanistan</td>\n      <td>2017</td>\n      <td>-</td>\n      <td>-</td>\n      <td>-</td>\n      <td>55</td>\n      <td>63.0</td>\n      <td>37.342</td>\n      <td>7.027</td>\n      <td>5.129</td>\n      <td>49.4</td>\n      <td>-</td>\n    </tr>\n    <tr>\n      <th>1</th>\n      <td>Afghanistan</td>\n      <td>2018</td>\n      <td>36,686,784</td>\n      <td>9,353,296</td>\n      <td>27,333,488</td>\n      <td>56</td>\n      <td>63.0</td>\n      <td>36.927</td>\n      <td>6.981</td>\n      <td>5.002</td>\n      <td>47.8</td>\n      <td>3.0</td>\n    </tr>\n    <tr>\n      <th>2</th>\n      <td>Afghanistan</td>\n      <td>2019</td>\n      <td>37,769,499</td>\n      <td>9,727,157</td>\n      <td>28,042,342</td>\n      <td>58</td>\n      <td>64.0</td>\n      <td>36.466</td>\n      <td>6.791</td>\n      <td>4.87</td>\n      <td>46.3</td>\n      <td>3.0</td>\n    </tr>\n    <tr>\n      <th>3</th>\n      <td>Afghanistan</td>\n      <td>2020</td>\n      <td>38,972,230</td>\n      <td>10,142,913</td>\n      <td>28,829,317</td>\n      <td>60</td>\n      <td>63.0</td>\n      <td>36.051</td>\n      <td>7.113</td>\n      <td>4.75</td>\n      <td>44.8</td>\n      <td>3.0</td>\n    </tr>\n    <tr>\n      <th>4</th>\n      <td>Afghanistan</td>\n      <td>2021</td>\n      <td>40,099,462</td>\n      <td>10,551,772</td>\n      <td>29,547,690</td>\n      <td>-</td>\n      <td>62.0</td>\n      <td>35.842</td>\n      <td>7.344</td>\n      <td>4.643</td>\n      <td>43.4</td>\n      <td>3.0</td>\n    </tr>\n  </tbody>\n</table>\n</div>"
     },
     "execution_count": 46,
     "metadata": {},
     "output_type": "execute_result"
    }
   ],
   "source": [
    "df.head()"
   ],
   "metadata": {
    "collapsed": false,
    "pycharm": {
     "name": "#%%\n"
    },
    "ExecuteTime": {
     "end_time": "2023-10-05T07:04:15.994539349Z",
     "start_time": "2023-10-05T07:04:15.942129101Z"
    }
   }
  },
  {
   "cell_type": "markdown",
   "source": [
    "## 2.3 Определите размерность данного фрейма (shape())\n"
   ],
   "metadata": {
    "collapsed": false,
    "pycharm": {
     "name": "#%% md\n"
    }
   }
  },
  {
   "cell_type": "code",
   "execution_count": 47,
   "outputs": [
    {
     "name": "stdout",
     "output_type": "stream",
     "text": [
      "Размерность фрейма: (1073, 12)\n"
     ]
    }
   ],
   "source": [
    "print(\"Размерность фрейма:\", df.shape)"
   ],
   "metadata": {
    "collapsed": false,
    "pycharm": {
     "name": "#%%\n"
    },
    "ExecuteTime": {
     "end_time": "2023-10-05T07:04:30.864211930Z",
     "start_time": "2023-10-05T07:04:30.837702746Z"
    }
   }
  },
  {
   "cell_type": "markdown",
   "source": [
    "## 2.4 Выведите название заголовков столбцов фрейма (columns)\n"
   ],
   "metadata": {
    "collapsed": false,
    "pycharm": {
     "name": "#%% md\n"
    }
   }
  },
  {
   "cell_type": "code",
   "execution_count": 48,
   "outputs": [
    {
     "data": {
      "text/plain": "Index(['Country', 'Year', 'Total Population', 'Urban Population',\n       'Rural Population', 'Population Density', 'Life Expectancy',\n       'Birth Rate', 'Death Rate', 'Fertility Rate', 'Infant Mortality Rate',\n       'Growth Rate'],\n      dtype='object')"
     },
     "execution_count": 48,
     "metadata": {},
     "output_type": "execute_result"
    }
   ],
   "source": [
    "df.columns"
   ],
   "metadata": {
    "collapsed": false,
    "pycharm": {
     "name": "#%%\n"
    },
    "ExecuteTime": {
     "end_time": "2023-10-05T07:04:34.175902028Z",
     "start_time": "2023-10-05T07:04:34.164069238Z"
    }
   }
  },
  {
   "cell_type": "markdown",
   "source": [
    "## 2.5 Получите описание всех переменных (полей) (info())\n"
   ],
   "metadata": {
    "collapsed": false,
    "pycharm": {
     "name": "#%% md\n"
    }
   }
  },
  {
   "cell_type": "code",
   "execution_count": 49,
   "outputs": [
    {
     "name": "stdout",
     "output_type": "stream",
     "text": [
      "<class 'pandas.core.frame.DataFrame'>\n",
      "RangeIndex: 1073 entries, 0 to 1072\n",
      "Data columns (total 12 columns):\n",
      " #   Column                 Non-Null Count  Dtype  \n",
      "---  ------                 --------------  -----  \n",
      " 0   Country                1073 non-null   object \n",
      " 1   Year                   1073 non-null   int64  \n",
      " 2   Total Population       1073 non-null   object \n",
      " 3   Urban Population       1073 non-null   object \n",
      " 4   Rural Population       1073 non-null   object \n",
      " 5   Population Density     1073 non-null   object \n",
      " 6   Life Expectancy        1073 non-null   object \n",
      " 7   Birth Rate             1073 non-null   float64\n",
      " 8   Death Rate             1073 non-null   float64\n",
      " 9   Fertility Rate         1073 non-null   object \n",
      " 10  Infant Mortality Rate  1073 non-null   object \n",
      " 11  Growth Rate            1073 non-null   object \n",
      "dtypes: float64(2), int64(1), object(9)\n",
      "memory usage: 100.7+ KB\n"
     ]
    }
   ],
   "source": [
    "df.info()"
   ],
   "metadata": {
    "collapsed": false,
    "pycharm": {
     "name": "#%%\n"
    },
    "ExecuteTime": {
     "end_time": "2023-10-05T07:04:38.997634699Z",
     "start_time": "2023-10-05T07:04:38.921009136Z"
    }
   }
  },
  {
   "cell_type": "markdown",
   "source": [
    "## 2.6 Удалите строки, не содержащие значения в столбце «Total Population»\n"
   ],
   "metadata": {
    "collapsed": false,
    "pycharm": {
     "name": "#%% md\n"
    }
   }
  },
  {
   "cell_type": "code",
   "execution_count": 50,
   "outputs": [
    {
     "data": {
      "text/plain": "          Country  Year Total Population Urban Population Rural Population  \\\n1     Afghanistan  2018       36,686,784        9,353,296       27,333,488   \n2     Afghanistan  2019       37,769,499        9,727,157       28,042,342   \n3     Afghanistan  2020       38,972,230       10,142,913       28,829,317   \n4     Afghanistan  2021       40,099,462       10,551,772       29,547,690   \n6         Albania  2018        2,866,376        1,728,969        1,137,407   \n...           ...   ...              ...              ...              ...   \n1067       Zambia  2021       19,473,125        8,800,295       10,672,830   \n1069     Zimbabwe  2018       15,052,184        4,848,158       10,204,026   \n1070     Zimbabwe  2019       15,354,608        4,945,719       10,408,889   \n1071     Zimbabwe  2020       15,669,666        5,052,214       10,617,452   \n1072     Zimbabwe  2021       15,993,524        5,166,388       10,827,136   \n\n     Population Density Life Expectancy  Birth Rate  Death Rate  \\\n1                    56            63.0      36.927       6.981   \n2                    58            64.0      36.466       6.791   \n3                    60            63.0      36.051       7.113   \n4                     -            62.0      35.842       7.344   \n6                   105            79.0      10.517       8.308   \n...                 ...             ...         ...         ...   \n1067                  -            61.0      34.511       6.973   \n1069                 39            61.0      32.074       7.972   \n1070                 40            61.0      31.518       8.043   \n1071                 41            61.0      31.009       8.132   \n1072                  -            59.0      30.537       9.057   \n\n     Fertility Rate Infant Mortality Rate Growth Rate  \n1             5.002                  47.8         3.0  \n2              4.87                  46.3         3.0  \n3              4.75                  44.8         3.0  \n4             4.643                  43.4         3.0  \n6              1.44                   8.3         0.0  \n...             ...                   ...         ...  \n1067          4.308                  40.2         3.0  \n1069          3.659                  38.0         2.0  \n1070          3.599                  37.1         2.0  \n1071          3.545                  36.6         2.0  \n1072          3.491                  35.7         2.0  \n\n[864 rows x 12 columns]",
      "text/html": "<div>\n<style scoped>\n    .dataframe tbody tr th:only-of-type {\n        vertical-align: middle;\n    }\n\n    .dataframe tbody tr th {\n        vertical-align: top;\n    }\n\n    .dataframe thead th {\n        text-align: right;\n    }\n</style>\n<table border=\"1\" class=\"dataframe\">\n  <thead>\n    <tr style=\"text-align: right;\">\n      <th></th>\n      <th>Country</th>\n      <th>Year</th>\n      <th>Total Population</th>\n      <th>Urban Population</th>\n      <th>Rural Population</th>\n      <th>Population Density</th>\n      <th>Life Expectancy</th>\n      <th>Birth Rate</th>\n      <th>Death Rate</th>\n      <th>Fertility Rate</th>\n      <th>Infant Mortality Rate</th>\n      <th>Growth Rate</th>\n    </tr>\n  </thead>\n  <tbody>\n    <tr>\n      <th>1</th>\n      <td>Afghanistan</td>\n      <td>2018</td>\n      <td>36,686,784</td>\n      <td>9,353,296</td>\n      <td>27,333,488</td>\n      <td>56</td>\n      <td>63.0</td>\n      <td>36.927</td>\n      <td>6.981</td>\n      <td>5.002</td>\n      <td>47.8</td>\n      <td>3.0</td>\n    </tr>\n    <tr>\n      <th>2</th>\n      <td>Afghanistan</td>\n      <td>2019</td>\n      <td>37,769,499</td>\n      <td>9,727,157</td>\n      <td>28,042,342</td>\n      <td>58</td>\n      <td>64.0</td>\n      <td>36.466</td>\n      <td>6.791</td>\n      <td>4.87</td>\n      <td>46.3</td>\n      <td>3.0</td>\n    </tr>\n    <tr>\n      <th>3</th>\n      <td>Afghanistan</td>\n      <td>2020</td>\n      <td>38,972,230</td>\n      <td>10,142,913</td>\n      <td>28,829,317</td>\n      <td>60</td>\n      <td>63.0</td>\n      <td>36.051</td>\n      <td>7.113</td>\n      <td>4.75</td>\n      <td>44.8</td>\n      <td>3.0</td>\n    </tr>\n    <tr>\n      <th>4</th>\n      <td>Afghanistan</td>\n      <td>2021</td>\n      <td>40,099,462</td>\n      <td>10,551,772</td>\n      <td>29,547,690</td>\n      <td>-</td>\n      <td>62.0</td>\n      <td>35.842</td>\n      <td>7.344</td>\n      <td>4.643</td>\n      <td>43.4</td>\n      <td>3.0</td>\n    </tr>\n    <tr>\n      <th>6</th>\n      <td>Albania</td>\n      <td>2018</td>\n      <td>2,866,376</td>\n      <td>1,728,969</td>\n      <td>1,137,407</td>\n      <td>105</td>\n      <td>79.0</td>\n      <td>10.517</td>\n      <td>8.308</td>\n      <td>1.44</td>\n      <td>8.3</td>\n      <td>0.0</td>\n    </tr>\n    <tr>\n      <th>...</th>\n      <td>...</td>\n      <td>...</td>\n      <td>...</td>\n      <td>...</td>\n      <td>...</td>\n      <td>...</td>\n      <td>...</td>\n      <td>...</td>\n      <td>...</td>\n      <td>...</td>\n      <td>...</td>\n      <td>...</td>\n    </tr>\n    <tr>\n      <th>1067</th>\n      <td>Zambia</td>\n      <td>2021</td>\n      <td>19,473,125</td>\n      <td>8,800,295</td>\n      <td>10,672,830</td>\n      <td>-</td>\n      <td>61.0</td>\n      <td>34.511</td>\n      <td>6.973</td>\n      <td>4.308</td>\n      <td>40.2</td>\n      <td>3.0</td>\n    </tr>\n    <tr>\n      <th>1069</th>\n      <td>Zimbabwe</td>\n      <td>2018</td>\n      <td>15,052,184</td>\n      <td>4,848,158</td>\n      <td>10,204,026</td>\n      <td>39</td>\n      <td>61.0</td>\n      <td>32.074</td>\n      <td>7.972</td>\n      <td>3.659</td>\n      <td>38.0</td>\n      <td>2.0</td>\n    </tr>\n    <tr>\n      <th>1070</th>\n      <td>Zimbabwe</td>\n      <td>2019</td>\n      <td>15,354,608</td>\n      <td>4,945,719</td>\n      <td>10,408,889</td>\n      <td>40</td>\n      <td>61.0</td>\n      <td>31.518</td>\n      <td>8.043</td>\n      <td>3.599</td>\n      <td>37.1</td>\n      <td>2.0</td>\n    </tr>\n    <tr>\n      <th>1071</th>\n      <td>Zimbabwe</td>\n      <td>2020</td>\n      <td>15,669,666</td>\n      <td>5,052,214</td>\n      <td>10,617,452</td>\n      <td>41</td>\n      <td>61.0</td>\n      <td>31.009</td>\n      <td>8.132</td>\n      <td>3.545</td>\n      <td>36.6</td>\n      <td>2.0</td>\n    </tr>\n    <tr>\n      <th>1072</th>\n      <td>Zimbabwe</td>\n      <td>2021</td>\n      <td>15,993,524</td>\n      <td>5,166,388</td>\n      <td>10,827,136</td>\n      <td>-</td>\n      <td>59.0</td>\n      <td>30.537</td>\n      <td>9.057</td>\n      <td>3.491</td>\n      <td>35.7</td>\n      <td>2.0</td>\n    </tr>\n  </tbody>\n</table>\n<p>864 rows × 12 columns</p>\n</div>"
     },
     "execution_count": 50,
     "metadata": {},
     "output_type": "execute_result"
    }
   ],
   "source": [
    "df1 = df[df['Total Population'] != '-']\n",
    "df1"
   ],
   "metadata": {
    "collapsed": false,
    "pycharm": {
     "name": "#%%\n"
    },
    "ExecuteTime": {
     "end_time": "2023-10-05T07:04:43.396356002Z",
     "start_time": "2023-10-05T07:04:43.300511536Z"
    }
   }
  },
  {
   "cell_type": "markdown",
   "source": [
    "## 2.7 Получите описательную статистику по переменным\n"
   ],
   "metadata": {
    "collapsed": false,
    "pycharm": {
     "name": "#%% md\n"
    }
   }
  },
  {
   "cell_type": "code",
   "execution_count": 51,
   "outputs": [
    {
     "data": {
      "text/plain": "              Year  Birth Rate  Death Rate\ncount   864.000000  864.000000  864.000000\nmean   2019.500000   18.548384    7.889123\nstd       1.118682    9.887518    3.041385\nmin    2018.000000    0.000000    0.000000\n25%    2018.750000   10.500000    6.116500\n50%    2019.500000   15.628500    7.453500\n75%    2020.250000   25.565000    9.385000\nmax    2021.000000   46.127000   21.700000",
      "text/html": "<div>\n<style scoped>\n    .dataframe tbody tr th:only-of-type {\n        vertical-align: middle;\n    }\n\n    .dataframe tbody tr th {\n        vertical-align: top;\n    }\n\n    .dataframe thead th {\n        text-align: right;\n    }\n</style>\n<table border=\"1\" class=\"dataframe\">\n  <thead>\n    <tr style=\"text-align: right;\">\n      <th></th>\n      <th>Year</th>\n      <th>Birth Rate</th>\n      <th>Death Rate</th>\n    </tr>\n  </thead>\n  <tbody>\n    <tr>\n      <th>count</th>\n      <td>864.000000</td>\n      <td>864.000000</td>\n      <td>864.000000</td>\n    </tr>\n    <tr>\n      <th>mean</th>\n      <td>2019.500000</td>\n      <td>18.548384</td>\n      <td>7.889123</td>\n    </tr>\n    <tr>\n      <th>std</th>\n      <td>1.118682</td>\n      <td>9.887518</td>\n      <td>3.041385</td>\n    </tr>\n    <tr>\n      <th>min</th>\n      <td>2018.000000</td>\n      <td>0.000000</td>\n      <td>0.000000</td>\n    </tr>\n    <tr>\n      <th>25%</th>\n      <td>2018.750000</td>\n      <td>10.500000</td>\n      <td>6.116500</td>\n    </tr>\n    <tr>\n      <th>50%</th>\n      <td>2019.500000</td>\n      <td>15.628500</td>\n      <td>7.453500</td>\n    </tr>\n    <tr>\n      <th>75%</th>\n      <td>2020.250000</td>\n      <td>25.565000</td>\n      <td>9.385000</td>\n    </tr>\n    <tr>\n      <th>max</th>\n      <td>2021.000000</td>\n      <td>46.127000</td>\n      <td>21.700000</td>\n    </tr>\n  </tbody>\n</table>\n</div>"
     },
     "execution_count": 51,
     "metadata": {},
     "output_type": "execute_result"
    }
   ],
   "source": [
    "df1.describe()"
   ],
   "metadata": {
    "collapsed": false,
    "pycharm": {
     "name": "#%%\n"
    },
    "ExecuteTime": {
     "end_time": "2023-10-05T07:04:46.535988824Z",
     "start_time": "2023-10-05T07:04:46.443764740Z"
    }
   }
  },
  {
   "cell_type": "markdown",
   "source": [
    "## 2.8 Выполните сортировку данных по нескольким критериям (например, по Total Population и Year)\n"
   ],
   "metadata": {
    "collapsed": false,
    "pycharm": {
     "name": "#%% md\n"
    }
   }
  },
  {
   "cell_type": "code",
   "execution_count": 52,
   "outputs": [
    {
     "data": {
      "text/plain": "         Country  Year Total Population Urban Population Rural Population  \\\n832   Seychelles  2021           99,258           57,542           41,716   \n831   Seychelles  2020           98,462           56,661           41,801   \n830   Seychelles  2019           97,625           55,762           41,863   \n1047     Vietnam  2021       97,468,029       37,088,534       60,379,495   \n829   Seychelles  2018           96,762           54,855           41,907   \n...          ...   ...              ...              ...              ...   \n302     Eswatini  2018        1,160,428          276,170          884,258   \n260     Djibouti  2021        1,105,557          864,734          240,823   \n259     Djibouti  2020        1,090,156          850,998          239,158   \n258     Djibouti  2019        1,073,994          836,802          237,192   \n257     Djibouti  2018        1,057,198          822,257          234,941   \n\n     Population Density Life Expectancy  Birth Rate  Death Rate  \\\n832                   -            73.0      16.800       9.300   \n831                 214            77.0      15.800       6.800   \n830                 212            74.0      16.400       8.100   \n1047                  -            74.0      15.008       7.317   \n829                 210            73.0      17.100       8.400   \n...                 ...             ...         ...         ...   \n302                  67            59.0      25.718       9.324   \n260                   -            62.0      22.205       9.147   \n259                  47            63.0      22.477       8.821   \n258                  46            63.0      22.748       8.421   \n257                  46            63.0      22.982       8.347   \n\n     Fertility Rate Infant Mortality Rate Growth Rate  \n832            2.46                  12.0         1.0  \n831            2.29                  12.2         1.0  \n830            2.36                  12.4         1.0  \n1047          1.944                  16.4         1.0  \n829            2.41                  12.5         1.0  \n...             ...                   ...         ...  \n302           2.962                  45.4         1.0  \n260           2.804                  45.9         1.0  \n259           2.848                  47.2         1.0  \n258           2.891                  48.7         2.0  \n257           2.929                  50.3         2.0  \n\n[864 rows x 12 columns]",
      "text/html": "<div>\n<style scoped>\n    .dataframe tbody tr th:only-of-type {\n        vertical-align: middle;\n    }\n\n    .dataframe tbody tr th {\n        vertical-align: top;\n    }\n\n    .dataframe thead th {\n        text-align: right;\n    }\n</style>\n<table border=\"1\" class=\"dataframe\">\n  <thead>\n    <tr style=\"text-align: right;\">\n      <th></th>\n      <th>Country</th>\n      <th>Year</th>\n      <th>Total Population</th>\n      <th>Urban Population</th>\n      <th>Rural Population</th>\n      <th>Population Density</th>\n      <th>Life Expectancy</th>\n      <th>Birth Rate</th>\n      <th>Death Rate</th>\n      <th>Fertility Rate</th>\n      <th>Infant Mortality Rate</th>\n      <th>Growth Rate</th>\n    </tr>\n  </thead>\n  <tbody>\n    <tr>\n      <th>832</th>\n      <td>Seychelles</td>\n      <td>2021</td>\n      <td>99,258</td>\n      <td>57,542</td>\n      <td>41,716</td>\n      <td>-</td>\n      <td>73.0</td>\n      <td>16.800</td>\n      <td>9.300</td>\n      <td>2.46</td>\n      <td>12.0</td>\n      <td>1.0</td>\n    </tr>\n    <tr>\n      <th>831</th>\n      <td>Seychelles</td>\n      <td>2020</td>\n      <td>98,462</td>\n      <td>56,661</td>\n      <td>41,801</td>\n      <td>214</td>\n      <td>77.0</td>\n      <td>15.800</td>\n      <td>6.800</td>\n      <td>2.29</td>\n      <td>12.2</td>\n      <td>1.0</td>\n    </tr>\n    <tr>\n      <th>830</th>\n      <td>Seychelles</td>\n      <td>2019</td>\n      <td>97,625</td>\n      <td>55,762</td>\n      <td>41,863</td>\n      <td>212</td>\n      <td>74.0</td>\n      <td>16.400</td>\n      <td>8.100</td>\n      <td>2.36</td>\n      <td>12.4</td>\n      <td>1.0</td>\n    </tr>\n    <tr>\n      <th>1047</th>\n      <td>Vietnam</td>\n      <td>2021</td>\n      <td>97,468,029</td>\n      <td>37,088,534</td>\n      <td>60,379,495</td>\n      <td>-</td>\n      <td>74.0</td>\n      <td>15.008</td>\n      <td>7.317</td>\n      <td>1.944</td>\n      <td>16.4</td>\n      <td>1.0</td>\n    </tr>\n    <tr>\n      <th>829</th>\n      <td>Seychelles</td>\n      <td>2018</td>\n      <td>96,762</td>\n      <td>54,855</td>\n      <td>41,907</td>\n      <td>210</td>\n      <td>73.0</td>\n      <td>17.100</td>\n      <td>8.400</td>\n      <td>2.41</td>\n      <td>12.5</td>\n      <td>1.0</td>\n    </tr>\n    <tr>\n      <th>...</th>\n      <td>...</td>\n      <td>...</td>\n      <td>...</td>\n      <td>...</td>\n      <td>...</td>\n      <td>...</td>\n      <td>...</td>\n      <td>...</td>\n      <td>...</td>\n      <td>...</td>\n      <td>...</td>\n      <td>...</td>\n    </tr>\n    <tr>\n      <th>302</th>\n      <td>Eswatini</td>\n      <td>2018</td>\n      <td>1,160,428</td>\n      <td>276,170</td>\n      <td>884,258</td>\n      <td>67</td>\n      <td>59.0</td>\n      <td>25.718</td>\n      <td>9.324</td>\n      <td>2.962</td>\n      <td>45.4</td>\n      <td>1.0</td>\n    </tr>\n    <tr>\n      <th>260</th>\n      <td>Djibouti</td>\n      <td>2021</td>\n      <td>1,105,557</td>\n      <td>864,734</td>\n      <td>240,823</td>\n      <td>-</td>\n      <td>62.0</td>\n      <td>22.205</td>\n      <td>9.147</td>\n      <td>2.804</td>\n      <td>45.9</td>\n      <td>1.0</td>\n    </tr>\n    <tr>\n      <th>259</th>\n      <td>Djibouti</td>\n      <td>2020</td>\n      <td>1,090,156</td>\n      <td>850,998</td>\n      <td>239,158</td>\n      <td>47</td>\n      <td>63.0</td>\n      <td>22.477</td>\n      <td>8.821</td>\n      <td>2.848</td>\n      <td>47.2</td>\n      <td>1.0</td>\n    </tr>\n    <tr>\n      <th>258</th>\n      <td>Djibouti</td>\n      <td>2019</td>\n      <td>1,073,994</td>\n      <td>836,802</td>\n      <td>237,192</td>\n      <td>46</td>\n      <td>63.0</td>\n      <td>22.748</td>\n      <td>8.421</td>\n      <td>2.891</td>\n      <td>48.7</td>\n      <td>2.0</td>\n    </tr>\n    <tr>\n      <th>257</th>\n      <td>Djibouti</td>\n      <td>2018</td>\n      <td>1,057,198</td>\n      <td>822,257</td>\n      <td>234,941</td>\n      <td>46</td>\n      <td>63.0</td>\n      <td>22.982</td>\n      <td>8.347</td>\n      <td>2.929</td>\n      <td>50.3</td>\n      <td>2.0</td>\n    </tr>\n  </tbody>\n</table>\n<p>864 rows × 12 columns</p>\n</div>"
     },
     "execution_count": 52,
     "metadata": {},
     "output_type": "execute_result"
    }
   ],
   "source": [
    "df1 = df1.sort_values(by=['Total Population', 'Year'], ascending=[False, True])\n",
    "df1"
   ],
   "metadata": {
    "collapsed": false,
    "pycharm": {
     "name": "#%%\n"
    },
    "ExecuteTime": {
     "end_time": "2023-10-05T07:04:50.647469337Z",
     "start_time": "2023-10-05T07:04:50.580706184Z"
    }
   }
  },
  {
   "cell_type": "markdown",
   "source": [
    "## 2.9 Экспорт фрейма в MS Excel"
   ],
   "metadata": {
    "collapsed": false,
    "pycharm": {
     "name": "#%% md\n"
    }
   }
  },
  {
   "cell_type": "code",
   "execution_count": 21,
   "outputs": [],
   "source": [
    "df1.to_excel(\"population_trends.xlsx\", index=False)"
   ],
   "metadata": {
    "collapsed": false,
    "pycharm": {
     "name": "#%%\n"
    },
    "ExecuteTime": {
     "end_time": "2023-10-04T16:43:55.087813164Z",
     "start_time": "2023-10-04T16:43:54.869032084Z"
    }
   }
  }
 ],
 "metadata": {
  "kernelspec": {
   "display_name": "Python 3",
   "language": "python",
   "name": "python3"
  },
  "language_info": {
   "codemirror_mode": {
    "name": "ipython",
    "version": 2
   },
   "file_extension": ".py",
   "mimetype": "text/x-python",
   "name": "python",
   "nbconvert_exporter": "python",
   "pygments_lexer": "ipython2",
   "version": "2.7.6"
  }
 },
 "nbformat": 4,
 "nbformat_minor": 0
}
