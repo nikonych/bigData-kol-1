{
 "cells": [
  {
   "cell_type": "code",
   "execution_count": 74,
   "id": "initial_id",
   "metadata": {
    "collapsed": true,
    "ExecuteTime": {
     "end_time": "2023-10-25T16:05:27.574773568Z",
     "start_time": "2023-10-25T16:05:27.406023578Z"
    }
   },
   "outputs": [],
   "source": [
    "from sklearn.datasets import load_digits\n",
    "\n",
    "digits_dataset = load_digits()"
   ]
  },
  {
   "cell_type": "markdown",
   "source": [
    "# Изучаем данные \n",
    "# Оптическое распознавание набора данных рукописных цифр"
   ],
   "metadata": {
    "collapsed": false
   },
   "id": "329f3dfa48781a00"
  },
  {
   "cell_type": "code",
   "execution_count": 75,
   "outputs": [
    {
     "name": "stdout",
     "output_type": "stream",
     "text": [
      "Ключи digits_dataset: \n",
      "dict_keys(['data', 'target', 'frame', 'feature_names', 'target_names', 'images', 'DESCR'])\n"
     ]
    }
   ],
   "source": [
    "print(f\"Ключи digits_dataset: \\n{digits_dataset.keys()}\")"
   ],
   "metadata": {
    "collapsed": false,
    "ExecuteTime": {
     "end_time": "2023-10-25T16:05:27.677981135Z",
     "start_time": "2023-10-25T16:05:27.430792229Z"
    }
   },
   "id": "b5ad77dba695caaa"
  },
  {
   "cell_type": "code",
   "execution_count": 76,
   "outputs": [
    {
     "name": "stdout",
     "output_type": "stream",
     "text": [
      ".. _digits_dataset:\n",
      "\n",
      "Optical recognition of handwritten digits dataset\n",
      "--------------------------------------------------\n",
      "\n",
      "**Data Set Characteristics:**\n",
      "\n",
      "    :Number of Instances: 1797\n",
      "    :Number of Attributes: 64\n",
      "    :Attribute Information: 8x8 image of integer pixels in the range 0..16.\n",
      "    :Miss\n"
     ]
    }
   ],
   "source": [
    "print(digits_dataset['DESCR'][:300])"
   ],
   "metadata": {
    "collapsed": false,
    "ExecuteTime": {
     "end_time": "2023-10-25T16:05:27.681344396Z",
     "start_time": "2023-10-25T16:05:27.442484271Z"
    }
   },
   "id": "a430159f44b4aefa"
  },
  {
   "cell_type": "code",
   "execution_count": 77,
   "outputs": [
    {
     "name": "stdout",
     "output_type": "stream",
     "text": [
      "Названия ответов: \n",
      "[0 1 2 3 4 5 6 7 8 9]\n"
     ]
    }
   ],
   "source": [
    "print(f\"Названия ответов: \\n{digits_dataset['target_names']}\")"
   ],
   "metadata": {
    "collapsed": false,
    "ExecuteTime": {
     "end_time": "2023-10-25T16:05:27.698286204Z",
     "start_time": "2023-10-25T16:05:27.443769388Z"
    }
   },
   "id": "3760047239dee6f6"
  },
  {
   "cell_type": "code",
   "execution_count": 78,
   "outputs": [
    {
     "name": "stdout",
     "output_type": "stream",
     "text": [
      "Названия признаков: \n",
      "pixel_0_0 pixel_0_1 pixel_0_2 pixel_0_3 pixel_0_4 pixel_0_5 pixel_0_6 pixel_0_7\n",
      "pixel_1_0 pixel_1_1 pixel_1_2 pixel_1_3 pixel_1_4 pixel_1_5 pixel_1_6 pixel_1_7\n",
      "pixel_2_0 pixel_2_1 pixel_2_2 pixel_2_3 pixel_2_4 pixel_2_5 pixel_2_6 pixel_2_7\n",
      "pixel_3_0 pixel_3_1 pixel_3_2 pixel_3_3 pixel_3_4 pixel_3_5 pixel_3_6 pixel_3_7\n",
      "pixel_4_0 pixel_4_1 pixel_4_2 pixel_4_3 pixel_4_4 pixel_4_5 pixel_4_6 pixel_4_7\n",
      "pixel_5_0 pixel_5_1 pixel_5_2 pixel_5_3 pixel_5_4 pixel_5_5 pixel_5_6 pixel_5_7\n",
      "pixel_6_0 pixel_6_1 pixel_6_2 pixel_6_3 pixel_6_4 pixel_6_5 pixel_6_6 pixel_6_7\n",
      "pixel_7_0 pixel_7_1 pixel_7_2 pixel_7_3 pixel_7_4 pixel_7_5 pixel_7_6 pixel_7_7\n"
     ]
    }
   ],
   "source": [
    "chunks = [digits_dataset['feature_names'][i:i + 8] for i in range(0, len(digits_dataset['feature_names']), 8)]\n",
    "formatted_lines = [' '.join(map(str, chunk)) for chunk in chunks]\n",
    "result = '\\n'.join(formatted_lines)\n",
    "print(f\"Названия признаков: \\n{result}\")"
   ],
   "metadata": {
    "collapsed": false,
    "ExecuteTime": {
     "end_time": "2023-10-25T16:05:27.723886713Z",
     "start_time": "2023-10-25T16:05:27.456072665Z"
    }
   },
   "id": "fcf8b790522fc500"
  },
  {
   "cell_type": "code",
   "execution_count": 79,
   "outputs": [
    {
     "name": "stdout",
     "output_type": "stream",
     "text": [
      "Строки из массива data: \n",
      "[[ 0.  0.  5. ...  0.  0.  0.]\n",
      " [ 0.  0.  0. ... 10.  0.  0.]\n",
      " [ 0.  0.  0. ... 16.  9.  0.]\n",
      " ...\n",
      " [ 0.  0.  1. ...  6.  0.  0.]\n",
      " [ 0.  0.  2. ... 12.  0.  0.]\n",
      " [ 0.  0. 10. ... 12.  1.  0.]]\n"
     ]
    }
   ],
   "source": [
    "print(f\"Строки из массива data: \\n{digits_dataset['data']}\")"
   ],
   "metadata": {
    "collapsed": false,
    "ExecuteTime": {
     "end_time": "2023-10-25T16:05:27.769144250Z",
     "start_time": "2023-10-25T16:05:27.457397520Z"
    }
   },
   "id": "bcb085dcbcbc109b"
  },
  {
   "cell_type": "code",
   "execution_count": 80,
   "outputs": [
    {
     "name": "stdout",
     "output_type": "stream",
     "text": [
      "Форма миссива data: \n",
      "(1797, 64)\n"
     ]
    }
   ],
   "source": [
    "print(f\"Форма миссива data: \\n{digits_dataset['data'].shape}\")"
   ],
   "metadata": {
    "collapsed": false,
    "ExecuteTime": {
     "end_time": "2023-10-25T16:05:27.779541747Z",
     "start_time": "2023-10-25T16:05:27.472992263Z"
    }
   },
   "id": "8ef271ac09143bd4"
  },
  {
   "cell_type": "code",
   "execution_count": 81,
   "outputs": [
    {
     "name": "stdout",
     "output_type": "stream",
     "text": [
      "Форма массива target: \n",
      "(1797,)\n"
     ]
    }
   ],
   "source": [
    "print(f\"Форма массива target: \\n{digits_dataset['target'].shape}\")"
   ],
   "metadata": {
    "collapsed": false,
    "ExecuteTime": {
     "end_time": "2023-10-25T16:05:27.784830274Z",
     "start_time": "2023-10-25T16:05:27.473647288Z"
    }
   },
   "id": "507a15d6739481c5"
  },
  {
   "cell_type": "code",
   "execution_count": 82,
   "outputs": [
    {
     "name": "stdout",
     "output_type": "stream",
     "text": [
      "Ответы: \n",
      "[0 1 2 ... 8 9 8]\n"
     ]
    }
   ],
   "source": [
    "print(f\"Ответы: \\n{digits_dataset['target']}\")"
   ],
   "metadata": {
    "collapsed": false,
    "ExecuteTime": {
     "end_time": "2023-10-25T16:05:27.804394555Z",
     "start_time": "2023-10-25T16:05:27.475195979Z"
    }
   },
   "id": "3bc00d60d72b620a"
  },
  {
   "cell_type": "markdown",
   "source": [
    "# Разделим данные на обучающий и тестовые наборы"
   ],
   "metadata": {
    "collapsed": false
   },
   "id": "5dc87feab8cc72b7"
  },
  {
   "cell_type": "code",
   "execution_count": 83,
   "outputs": [],
   "source": [
    "from sklearn.model_selection import train_test_split\n",
    "\n",
    "x_train, x_test, y_train, y_test = train_test_split(digits_dataset['data'], digits_dataset['target'], random_state=0)"
   ],
   "metadata": {
    "collapsed": false,
    "ExecuteTime": {
     "end_time": "2023-10-25T16:05:27.804723569Z",
     "start_time": "2023-10-25T16:05:27.483029178Z"
    }
   },
   "id": "6b3b43f2cea8f47f"
  },
  {
   "cell_type": "code",
   "execution_count": 84,
   "outputs": [
    {
     "name": "stdout",
     "output_type": "stream",
     "text": [
      "Форма массива x_train: (1347, 64)\n",
      "Форма массива y_train: (1347,)\n"
     ]
    }
   ],
   "source": [
    "print(f\"Форма массива x_train: {x_train.shape}\")\n",
    "print(f\"Форма массива y_train: {y_train.shape}\")"
   ],
   "metadata": {
    "collapsed": false,
    "ExecuteTime": {
     "end_time": "2023-10-25T16:05:27.813887350Z",
     "start_time": "2023-10-25T16:05:27.527526303Z"
    }
   },
   "id": "e30c058580aa5e6d"
  },
  {
   "cell_type": "code",
   "execution_count": 85,
   "outputs": [
    {
     "name": "stdout",
     "output_type": "stream",
     "text": [
      "Форма массива x_test: (450, 64)\n",
      "Форма массива y_test: (450,)\n"
     ]
    }
   ],
   "source": [
    "print(f\"Форма массива x_test: {x_test.shape}\")\n",
    "print(f\"Форма массива y_test: {y_test.shape}\")"
   ],
   "metadata": {
    "collapsed": false,
    "ExecuteTime": {
     "end_time": "2023-10-25T16:05:27.814295143Z",
     "start_time": "2023-10-25T16:05:27.528392383Z"
    }
   },
   "id": "ad769869456b24eb"
  },
  {
   "cell_type": "markdown",
   "source": [
    "# Иследуем данные с помощью визуализации"
   ],
   "metadata": {
    "collapsed": false
   },
   "id": "ae45e159d8e4c7b8"
  },
  {
   "cell_type": "code",
   "execution_count": 86,
   "outputs": [],
   "source": [
    "import matplotlib.pyplot as plt\n",
    "import numpy as np\n",
    "import seaborn as sns"
   ],
   "metadata": {
    "collapsed": false,
    "ExecuteTime": {
     "end_time": "2023-10-25T16:05:27.814486224Z",
     "start_time": "2023-10-25T16:05:27.529103139Z"
    }
   },
   "id": "6bd5e1e37e758165"
  },
  {
   "cell_type": "code",
   "execution_count": 87,
   "outputs": [
    {
     "data": {
      "text/plain": "<Figure size 800x800 with 10 Axes>",
      "image/png": "[encoded data removed]"
     },
     "metadata": {},
     "output_type": "display_data"
    }
   ],
   "source": [
    "plt.figure(figsize=(8, 8))\n",
    "for i in range(10):\n",
    "    plt.subplot(5, 5, i + 1)\n",
    "    plt.imshow(digits_dataset.data[i].reshape(8, 8), cmap=plt.cm.gray)\n",
    "    plt.title(f\"Цифра: {digits_dataset.target[i]}\")\n",
    "    plt.axis('off')\n",
    "plt.show()"
   ],
   "metadata": {
    "collapsed": false,
    "ExecuteTime": {
     "end_time": "2023-10-25T16:05:28.004756070Z",
     "start_time": "2023-10-25T16:05:27.577796780Z"
    }
   },
   "id": "87a7468df250cc73"
  },
  {
   "cell_type": "code",
   "execution_count": 88,
   "outputs": [
    {
     "data": {
      "text/plain": "<Figure size 640x480 with 1 Axes>",
      "image/png": "[encoded data removed]"
     },
     "metadata": {},
     "output_type": "display_data"
    }
   ],
   "source": [
    "unique, counts = np.unique(digits_dataset.target, return_counts=True)\n",
    "\n",
    "plt.bar(unique, counts)\n",
    "plt.xticks(unique)\n",
    "plt.xlabel('Цифра')\n",
    "plt.ylabel('Количество')\n",
    "plt.title('Распределение цифр в датасете')\n",
    "plt.show()"
   ],
   "metadata": {
    "collapsed": false,
    "ExecuteTime": {
     "end_time": "2023-10-25T16:05:28.132083114Z",
     "start_time": "2023-10-25T16:05:27.993116618Z"
    }
   },
   "id": "d59596aa86d7303a"
  },
  {
   "cell_type": "markdown",
   "source": [
    "# Постройте модель по методу k-ближайших средних"
   ],
   "metadata": {
    "collapsed": false
   },
   "id": "15e996a2776fa031"
  },
  {
   "cell_type": "code",
   "execution_count": 95,
   "outputs": [
    {
     "name": "stdout",
     "output_type": "stream",
     "text": [
      "Лучшее значение k-ближайших средних: 3\n"
     ]
    }
   ],
   "source": [
    "from sklearn.neighbors import KNeighborsClassifier\n",
    "from sklearn.model_selection import GridSearchCV\n",
    "\n",
    "param_grid = {'n_neighbors': [1, 2, 3, 4, 5, 6, 7, 8, 9, 10, 11]}\n",
    "grid_search = GridSearchCV(KNeighborsClassifier(), param_grid, cv=5)\n",
    "grid_search.fit(x_train, y_train)\n",
    "best_k = grid_search.best_params_['n_neighbors']\n",
    "\n",
    "print(f\"Лучшее значение k-ближайших средних: {best_k}\")"
   ],
   "metadata": {
    "collapsed": false,
    "ExecuteTime": {
     "end_time": "2023-10-25T16:13:01.557751661Z",
     "start_time": "2023-10-25T16:13:01.367370749Z"
    }
   },
   "id": "a162b9f94f422643"
  },
  {
   "cell_type": "code",
   "execution_count": 91,
   "outputs": [
    {
     "data": {
      "text/plain": "KNeighborsClassifier(n_neighbors=3)",
      "text/html": "<style>#sk-container-id-2 {color: black;}#sk-container-id-2 pre{padding: 0;}#sk-container-id-2 div.sk-toggleable {background-color: white;}#sk-container-id-2 label.sk-toggleable__label {cursor: pointer;display: block;width: 100%;margin-bottom: 0;padding: 0.3em;box-sizing: border-box;text-align: center;}#sk-container-id-2 label.sk-toggleable__label-arrow:before {content: \"▸\";float: left;margin-right: 0.25em;color: #696969;}#sk-container-id-2 label.sk-toggleable__label-arrow:hover:before {color: black;}#sk-container-id-2 div.sk-estimator:hover label.sk-toggleable__label-arrow:before {color: black;}#sk-container-id-2 div.sk-toggleable__content {max-height: 0;max-width: 0;overflow: hidden;text-align: left;background-color: #f0f8ff;}#sk-container-id-2 div.sk-toggleable__content pre {margin: 0.2em;color: black;border-radius: 0.25em;background-color: #f0f8ff;}#sk-container-id-2 input.sk-toggleable__control:checked~div.sk-toggleable__content {max-height: 200px;max-width: 100%;overflow: auto;}#sk-container-id-2 input.sk-toggleable__control:checked~label.sk-toggleable__label-arrow:before {content: \"▾\";}#sk-container-id-2 div.sk-estimator input.sk-toggleable__control:checked~label.sk-toggleable__label {background-color: #d4ebff;}#sk-container-id-2 div.sk-label input.sk-toggleable__control:checked~label.sk-toggleable__label {background-color: #d4ebff;}#sk-container-id-2 input.sk-hidden--visually {border: 0;clip: rect(1px 1px 1px 1px);clip: rect(1px, 1px, 1px, 1px);height: 1px;margin: -1px;overflow: hidden;padding: 0;position: absolute;width: 1px;}#sk-container-id-2 div.sk-estimator {font-family: monospace;background-color: #f0f8ff;border: 1px dotted black;border-radius: 0.25em;box-sizing: border-box;margin-bottom: 0.5em;}#sk-container-id-2 div.sk-estimator:hover {background-color: #d4ebff;}#sk-container-id-2 div.sk-parallel-item::after {content: \"\";width: 100%;border-bottom: 1px solid gray;flex-grow: 1;}#sk-container-id-2 div.sk-label:hover label.sk-toggleable__label {background-color: #d4ebff;}#sk-container-id-2 div.sk-serial::before {content: \"\";position: absolute;border-left: 1px solid gray;box-sizing: border-box;top: 0;bottom: 0;left: 50%;z-index: 0;}#sk-container-id-2 div.sk-serial {display: flex;flex-direction: column;align-items: center;background-color: white;padding-right: 0.2em;padding-left: 0.2em;position: relative;}#sk-container-id-2 div.sk-item {position: relative;z-index: 1;}#sk-container-id-2 div.sk-parallel {display: flex;align-items: stretch;justify-content: center;background-color: white;position: relative;}#sk-container-id-2 div.sk-item::before, #sk-container-id-2 div.sk-parallel-item::before {content: \"\";position: absolute;border-left: 1px solid gray;box-sizing: border-box;top: 0;bottom: 0;left: 50%;z-index: -1;}#sk-container-id-2 div.sk-parallel-item {display: flex;flex-direction: column;z-index: 1;position: relative;background-color: white;}#sk-container-id-2 div.sk-parallel-item:first-child::after {align-self: flex-end;width: 50%;}#sk-container-id-2 div.sk-parallel-item:last-child::after {align-self: flex-start;width: 50%;}#sk-container-id-2 div.sk-parallel-item:only-child::after {width: 0;}#sk-container-id-2 div.sk-dashed-wrapped {border: 1px dashed gray;margin: 0 0.4em 0.5em 0.4em;box-sizing: border-box;padding-bottom: 0.4em;background-color: white;}#sk-container-id-2 div.sk-label label {font-family: monospace;font-weight: bold;display: inline-block;line-height: 1.2em;}#sk-container-id-2 div.sk-label-container {text-align: center;}#sk-container-id-2 div.sk-container {/* jupyter's `normalize.less` sets `[hidden] { display: none; }` but bootstrap.min.css set `[hidden] { display: none !important; }` so we also need the `!important` here to be able to override the default hidden behavior on the sphinx rendered scikit-learn.org. See: https://github.com/scikit-learn/scikit-learn/issues/21755 */display: inline-block !important;position: relative;}#sk-container-id-2 div.sk-text-repr-fallback {display: none;}</style><div id=\"sk-container-id-2\" class=\"sk-top-container\"><div class=\"sk-text-repr-fallback\"><pre>KNeighborsClassifier(n_neighbors=3)</pre><b>In a Jupyter environment, please rerun this cell to show the HTML representation or trust the notebook. <br />On GitHub, the HTML representation is unable to render, please try loading this page with nbviewer.org.</b></div><div class=\"sk-container\" hidden><div class=\"sk-item\"><div class=\"sk-estimator sk-toggleable\"><input class=\"sk-toggleable__control sk-hidden--visually\" id=\"sk-estimator-id-2\" type=\"checkbox\" checked><label for=\"sk-estimator-id-2\" class=\"sk-toggleable__label sk-toggleable__label-arrow\">KNeighborsClassifier</label><div class=\"sk-toggleable__content\"><pre>KNeighborsClassifier(n_neighbors=3)</pre></div></div></div></div></div>"
     },
     "execution_count": 91,
     "metadata": {},
     "output_type": "execute_result"
    }
   ],
   "source": [
    "knn = KNeighborsClassifier(n_neighbors=best_k)\n",
    "\n",
    "knn.fit(x_train, y_train)"
   ],
   "metadata": {
    "collapsed": false,
    "ExecuteTime": {
     "end_time": "2023-10-25T16:05:28.381830558Z",
     "start_time": "2023-10-25T16:05:28.320019599Z"
    }
   },
   "id": "faed97ebf8cdb119"
  },
  {
   "cell_type": "code",
   "execution_count": 92,
   "outputs": [
    {
     "data": {
      "text/plain": "<Figure size 640x480 with 1 Axes>",
      "image/png": "[encoded data removed]"
     },
     "metadata": {},
     "output_type": "display_data"
    }
   ],
   "source": [
    "import random\n",
    "\n",
    "random_index = random.randint(0, len(x_test) - 1)\n",
    "sample = x_test[random_index].reshape(1, -1)\n",
    "true_label = y_test[random_index]\n",
    "\n",
    "predicted_label = knn.predict(sample)\n",
    "\n",
    "plt.imshow(sample.reshape(8, 8), cmap='gray')\n",
    "plt.title(f\"Прогноз: {predicted_label[0]}, Фактическая метка: {true_label}\")\n",
    "plt.axis('off')\n",
    "plt.show()"
   ],
   "metadata": {
    "collapsed": false,
    "ExecuteTime": {
     "end_time": "2023-10-25T16:05:28.444222512Z",
     "start_time": "2023-10-25T16:05:28.363250597Z"
    }
   },
   "id": "84ab6e5fcb3bc98f"
  },
  {
   "cell_type": "code",
   "execution_count": 93,
   "outputs": [
    {
     "name": "stdout",
     "output_type": "stream",
     "text": [
      "Точность: 0.99\n"
     ]
    }
   ],
   "source": [
    "from sklearn.metrics import accuracy_score\n",
    "\n",
    "y_pred = knn.predict(x_test)\n",
    "accuracy = accuracy_score(y_test, y_pred)\n",
    "print(f\"Точность: {accuracy:.2f}\")\n"
   ],
   "metadata": {
    "collapsed": false,
    "ExecuteTime": {
     "end_time": "2023-10-25T16:05:28.511400009Z",
     "start_time": "2023-10-25T16:05:28.446971255Z"
    }
   },
   "id": "c1817a1c6b17e920"
  },
  {
   "cell_type": "code",
   "execution_count": 94,
   "outputs": [
    {
     "name": "stdout",
     "output_type": "stream",
     "text": [
      "Матрица ошибок:\n",
      "[[37  0  0  0  0  0  0  0  0  0]\n",
      " [ 0 42  0  0  0  1  0  0  0  0]\n",
      " [ 0  0 44  0  0  0  0  0  0  0]\n",
      " [ 0  0  1 44  0  0  0  0  0  0]\n",
      " [ 0  0  0  0 37  0  0  1  0  0]\n",
      " [ 0  0  0  0  0 47  0  0  0  1]\n",
      " [ 0  0  0  0  0  0 52  0  0  0]\n",
      " [ 0  0  0  0  0  0  0 48  0  0]\n",
      " [ 0  0  0  2  0  0  0  0 46  0]\n",
      " [ 0  0  0  0  0  0  0  0  0 47]]\n",
      "Отчет о классификации:\n",
      "              precision    recall  f1-score   support\n",
      "\n",
      "           0       1.00      1.00      1.00        37\n",
      "           1       1.00      0.98      0.99        43\n",
      "           2       0.98      1.00      0.99        44\n",
      "           3       0.96      0.98      0.97        45\n",
      "           4       1.00      0.97      0.99        38\n",
      "           5       0.98      0.98      0.98        48\n",
      "           6       1.00      1.00      1.00        52\n",
      "           7       0.98      1.00      0.99        48\n",
      "           8       1.00      0.96      0.98        48\n",
      "           9       0.98      1.00      0.99        47\n",
      "\n",
      "    accuracy                           0.99       450\n",
      "   macro avg       0.99      0.99      0.99       450\n",
      "weighted avg       0.99      0.99      0.99       450\n"
     ]
    }
   ],
   "source": [
    "from sklearn.metrics import confusion_matrix, classification_report\n",
    "\n",
    "confusion = confusion_matrix(y_test, y_pred)\n",
    "print('Матрица ошибок:')\n",
    "print(confusion)\n",
    "\n",
    "# Отчет о классификации\n",
    "class_report = classification_report(y_test, y_pred)\n",
    "print('Отчет о классификации:')\n",
    "print(class_report)"
   ],
   "metadata": {
    "collapsed": false,
    "ExecuteTime": {
     "end_time": "2023-10-25T16:05:28.511683278Z",
     "start_time": "2023-10-25T16:05:28.491151163Z"
    }
   },
   "id": "11f9149986808fb8"
  },
  {
   "cell_type": "markdown",
   "source": [
    "<h3> Модель хорошо справилась с классификацией большинства цифр, так как на главной диагонали у матрицы ошибок значения довольно высоки.\n",
    "\n",
    "<h3> Есть некоторые случаи ошибок, например, в ячейке (3, 2) можно видеть, что модель ошиблась в предсказании цифры 2 как цифры 3 (1 случай)."
   ],
   "metadata": {
    "collapsed": false
   },
   "id": "60c1df9d89937da2"
  },
  {
   "cell_type": "code",
   "execution_count": 94,
   "outputs": [],
   "source": [],
   "metadata": {
    "collapsed": false,
    "ExecuteTime": {
     "end_time": "2023-10-25T16:05:28.511797256Z",
     "start_time": "2023-10-25T16:05:28.491703175Z"
    }
   },
   "id": "f802d384a77bd999"
  }
 ],
 "metadata": {
  "kernelspec": {
   "display_name": "Python 3",
   "language": "python",
   "name": "python3"
  },
  "language_info": {
   "codemirror_mode": {
    "name": "ipython",
    "version": 2
   },
   "file_extension": ".py",
   "mimetype": "text/x-python",
   "name": "python",
   "nbconvert_exporter": "python",
   "pygments_lexer": "ipython2",
   "version": "2.7.6"
  }
 },
 "nbformat": 4,
 "nbformat_minor": 5
}
